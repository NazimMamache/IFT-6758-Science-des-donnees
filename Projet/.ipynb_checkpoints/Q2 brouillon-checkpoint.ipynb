{
 "cells": [
  {
   "cell_type": "code",
   "execution_count": 1,
   "id": "e210ce44",
   "metadata": {},
   "outputs": [],
   "source": [
    "import os\n",
    "import requests\n",
    "import json\n",
    "import numpy as np\n",
    "import pandas as pd\n",
    "from tqdm import tqdm\n",
    "from os.path import exists\n",
    "\n",
    "pd.options.mode.chained_assignment = None\n",
    "        \n",
    "def get_season_ids(season: str, path: str='data', force_search=False):\n",
    "    '''\n",
    "    Returns the list of all game ids (regular and playoff) in a specified season and saves them to a json file\n",
    "    Arguments:\n",
    "        season (str): Season for which the ids and retrieved (for example: \"20182019\").\n",
    "        path (str): Folder where the data is the contained.\n",
    "        force_search (bool): fetch the data with get request even if the identifiers file already exists (can be used for the current season)\n",
    "    Returns:\n",
    "        ids (list of ints): identifiers of each regular and playoff game of the specified season.\n",
    "    '''\n",
    "\n",
    "    #if the identifiers into a json file \n",
    "    if not os.path.exists(path+f\"/{season}/identifiers.json\") or force_search:\n",
    "\n",
    "        #delete the existing identifiers file (which may or may not exist)\n",
    "        try:\n",
    "            os.remove(path+f\"/{season}/identifiers.json\")\n",
    "        except OSError:\n",
    "            pass\n",
    "        os.makedirs(path+f\"/{season}\", exist_ok=True)\n",
    "\n",
    "        #get the schedule for the season and create a json file\n",
    "        url = f\"https://statsapi.web.nhl.com/api/v1/schedule?season={season}&gameType=R&gameType=P\"\n",
    "        r_seasons = requests.get(url)\n",
    "        seasons = r_seasons.json()\n",
    "\n",
    "        #get all the game ids from the schedule\n",
    "        ids = []\n",
    "        for date in seasons['dates']:\n",
    "            ids += [game['gamePk'] for game in date['games']]\n",
    "\n",
    "        #save the list of ids into a json file\n",
    "        with open(path+f\"/{season}/identifiers.json\", 'w') as identifiers_file:\n",
    "            json.dump(ids, identifiers_file)\n",
    "\n",
    "    else:\n",
    "        #load the ids file if it already exists\n",
    "        f = open(path+f\"/{season}/identifiers.json\")\n",
    "        ids = json.load(f)\n",
    "        f.close()\n",
    "    return ids\n",
    "\n",
    "\n",
    "def get_game_data(season: str, path: str = './data'):\n",
    "    '''\n",
    "    Fonction qui permet de télécharger le contenu de l'API pour une saison donnée et l'enregistrer dans un fichier.\n",
    "    La fonction télécharge les données de chaque partie relative à la saison donnée en argument.\n",
    "    Exemple : les données relatives à la saison 2016/2017 seront enregistrées dans './data/20162017/' + {game_id} + '.json'.\n",
    "    Si les informations relatives à une partie existent déjà, le fichier n'est pas retéléchargé.\n",
    "    Arguments:\n",
    "        season (str): la saison dont on souhaite télécharger les informations relatives aux parties.\n",
    "        path (str): par défaut './data' le chemin du dossier où stocker les informations relatives à chaque saison.\n",
    "    '''\n",
    "\n",
    "    os.makedirs(path, exist_ok = True)\n",
    "    os.makedirs(path + '/' + season, exist_ok = True)\n",
    "    ids = get_season_ids(season, path)\n",
    "    for i in tqdm(ids):\n",
    "        if not exists(path+ '/' + season + '/'+ str(i) + '.pkl'):\n",
    "            #Les données de la partie n'étaient pas déjà enregistrées dans le fichier\n",
    "            try :\n",
    "                r = requests.get(f\"https://statsapi.web.nhl.com/api/v1/game/{i}/feed/live/\")\n",
    "                df = pd.DataFrame.from_records(r.json()[\"liveData\"][\"plays\"][\"allPlays\"])\n",
    "                df = clean_data(df)\n",
    "                df.to_pickle(f\"{path}/{season}/{i}.pkl\")\n",
    "            except Exception as e :\n",
    "                print(f\"Erreur pour la partie ID = {i} \\n {e}\")\n",
    "\n",
    "def clean_data(df: pd.DataFrame) -> pd.DataFrame:\n",
    "    '''\n",
    "    Function that cleans the data from the API.\n",
    "    It removes the columns that are not useful for the analysis and add columns of interest.\n",
    "    Arguments:\n",
    "        df (pd.DataFrame): DataFrame containing the data from the API.\n",
    "    Returns:\n",
    "        df (pd.DataFrame): DataFrame containing the cleaned data.\n",
    "    '''\n",
    "\n",
    "    # remove the rows that are not matching the events of interest (for now only Goal and Shot)\n",
    "    df = df[df[\"result\"].apply(lambda x: \"event\" in x and x[\"event\"] in [\"Goal\", \"Shot\"])]\n",
    "    df[\"eventId\"] = df[\"about\"].apply(lambda x: x[\"eventId\"])\n",
    "    df[\"event\"] = df[\"result\"].apply(lambda x: x[\"event\"])\n",
    "    df[\"eventType\"] = df[\"result\"].apply(lambda x: x[\"secondaryType\"] if \"secondaryType\" in x else None)\n",
    "    df[\"eventCoordinates\"] = df[\"coordinates\"].apply(lambda e: (e[\"x\"], e[\"y\"]) if e is not None and \"x\" in e.keys() and \"y\" in e.keys() else None)\n",
    "    df[\"isGoal\"] = df[\"event\"] == \"Goal\"\n",
    "    #\n",
    "    df[\"description\"] = df[\"result\"].apply(lambda x: x[\"description\"])\n",
    "    #\n",
    "    df[\"dateTime\"] = df[\"about\"].apply(lambda x: x[\"dateTime\"])\n",
    "    df[\"period\"] = df[\"about\"].apply(lambda x: x[\"period\"])\n",
    "    df[\"periodTime\"] = df[\"about\"].apply(lambda x: x[\"periodTime\"])\n",
    "    df[\"periodTimeRemaining\"] = df[\"about\"].apply(lambda x: x[\"periodTimeRemaining\"])\n",
    "    df[\"teamId\"] = df[\"team\"].apply(lambda x: x[\"id\"])\n",
    "    df[\"teamName\"] = df[\"team\"].apply(lambda x: x[\"name\"])\n",
    "    df[\"shooterName\"] = df[\"players\"].apply(lambda x: x[0][\"player\"][\"fullName\"] if len(x) > 0 else None)\n",
    "    df[\"goalieName\"] = df[\"players\"].apply(lambda x: x[-1][\"player\"][\"fullName\"] if len(x) > 0 else None)\n",
    "    # drop the columns that are not useful for the analysis anymore\n",
    "    df = df.drop(columns=[\"result\", \"about\", \"team\", \"players\", \"coordinates\"])\n",
    "    # remove rows that containes at least one nan value\n",
    "    df = df.dropna()\n",
    "    return df"
   ]
  },
  {
   "cell_type": "code",
   "execution_count": 2,
   "id": "99b5af7a",
   "metadata": {},
   "outputs": [
    {
     "name": "stderr",
     "output_type": "stream",
     "text": [
      "100%|██████████| 1317/1317 [00:00<00:00, 63238.68it/s]\n"
     ]
    }
   ],
   "source": [
    "get_game_data(\"20162017\")"
   ]
  },
  {
   "cell_type": "code",
   "execution_count": 3,
   "id": "c07be330",
   "metadata": {},
   "outputs": [],
   "source": [
    "import numpy as np\n",
    "from matplotlib import pyplot as plt\n",
    "from ipywidgets import *\n",
    "from data_aquisition import *"
   ]
  },
  {
   "cell_type": "code",
   "execution_count": 4,
   "id": "25e9a60f",
   "metadata": {},
   "outputs": [],
   "source": [
    "def split_indentifiers(season, path = './data'):\n",
    "    with open(path + '/' + season + '/' + 'identifiers.json') as f:\n",
    "        indentifiers_list = json.load(f)\n",
    "    id_regular_season = []\n",
    "    id_playoffs = []\n",
    "    for i in indentifiers_list:\n",
    "        if str(i)[:-4] == season[:-4] + '02' :\n",
    "            id_regular_season.append(i)\n",
    "        elif str(i)[:-4] == season[:-4] + '03' :\n",
    "            id_playoffs.append(i)\n",
    "        else:\n",
    "            print(f\"something unexpected happened at id = {str(i)}\")\n",
    "    id_regular_season.sort()\n",
    "    id_playoffs.sort()\n",
    "    return id_regular_season, id_playoffs"
   ]
  },
  {
   "cell_type": "code",
   "execution_count": 87,
   "id": "c3fe9f7a",
   "metadata": {},
   "outputs": [],
   "source": [
    "def interactif_widget(season : str, path = './data'):\n",
    "    get_game_data(season)\n",
    "    id_regular_season, id_playoffs = split_indentifiers(season, path)\n",
    "    playoffs = False\n",
    "    title = ''\n",
    "    team_names = ''\n",
    "    \n",
    "    def update_id_slider(id_slider):\n",
    "        if not playoffs:\n",
    "            id_slider.options= id_regular_season\n",
    "        else:\n",
    "            id_slider.options= id_playoffs\n",
    "\n",
    "    def on_change_type_game(change):\n",
    "        if change['type'] == 'change' and change['name'] == 'value':\n",
    "            nonlocal playoffs\n",
    "            playoffs = not playoffs\n",
    "            update_id_slider(id_slider)\n",
    "    \n",
    "    def on_change_game_id(change):\n",
    "        if change['type'] == 'change' and change['name'] == 'value':\n",
    "            nonlocal df\n",
    "            df = pd.read_pickle(f\"./data/{season}/{id_slider.value}.pkl\").set_index('eventId')\n",
    "            event_id_list = df.index.values.tolist()\n",
    "            id_play.children[0].options=event_id_list    \n",
    "            \n",
    "            \n",
    "    type_choice = Dropdown(options=[('Regular season', 1), ('Playoffs', 2)], description='Type of the game:', style= {'description_width': 'initial'})\n",
    "    type_choice.observe(on_change_type_game)\n",
    "    \n",
    "    id_slider = SelectionSlider(description='Game ID:',   options=id_regular_season)\n",
    "    ui = HBox([type_choice,id_slider])\n",
    "    display(ui)\n",
    "    \n",
    "    infos_game = widgets.HTML(\n",
    "    value=\"<br>data et heure<br>team 1 (home) vs team 2 (away)<br>goals - goals <br>attempts vs attempts<br>\",\n",
    "    description='Informations about the game :',\n",
    "    style= {'description_width': 'initial'})\n",
    "    display(infos_game)\n",
    "    \n",
    "    df = pd.read_pickle(f\"./data/{season}/{id_slider.value}.pkl\").set_index('eventId')\n",
    "    event_id_list = df.index.values.tolist()\n",
    "    current_id = event_id_list[0]\n",
    "\n",
    "    def plot_points(x,y):    \n",
    "        plt.plot(x, y, marker=\"o\", markersize=20, markeredgecolor=\"red\", markerfacecolor=\"blue\")\n",
    "\n",
    "    def configure_graph_grid():\n",
    "        plt.rcParams[\"figure.figsize\"] = [12, 6]\n",
    "        plt.rcParams[\"figure.autolayout\"] = True\n",
    "        im = plt.imread(\"./figures/nhl_rink.png\")\n",
    "        fig, ax = plt.subplots()\n",
    "        ax.set_xlabel('feet')\n",
    "        ax.set_ylabel('feet')\n",
    "        im = ax.imshow(im, extent=[-200/2., 200/2., -85/2., 85/2.])\n",
    "        plt.yticks(np.arange(-42.5,43.5,21.25))\n",
    "        plt.xticks(np.arange(-100,101,25))\n",
    "        plt.title(title)\n",
    "        \n",
    "    def do_update(x,y):\n",
    "        \"\"\"Based on the new control state, update the interactive plot.\n",
    "    \n",
    "           The approach here is to clear and redraw the whole plot rather than simply to update \n",
    "           the lines. Simply setting new x and y data for the lines works in the line case, but \n",
    "           doesn't because we're drawing them as arrows.\n",
    "        \"\"\"\n",
    "        configure_graph_grid()\n",
    "        plot_points(x,y)\n",
    "        plt.draw()\n",
    "    \n",
    "    def handle_event(w):\n",
    "        \"\"\"Process events from the ipywidgets.interactive handler.\n",
    "\n",
    "           Argument names in the event handler must match the keys in the \"interactive\" call (below).       \n",
    "        \"\"\"\n",
    "        nonlocal current_id\n",
    "        current_id = w\n",
    "        \n",
    "        # Repack the x and y coordinates into two vectors, and call do_update to process the change.\n",
    "        x = df['eventCoordinates'][w][0]\n",
    "        y = df['eventCoordinates'][w][1]\n",
    "        \n",
    "        nonlocal title\n",
    "        title = df['description'][w]\n",
    "    \n",
    "        do_update(x, y) \n",
    "        \n",
    "        \n",
    "    def on_change_pbp_id(change):\n",
    "        if change['type'] == 'change' and change['name'] == 'value':\n",
    "            infos_pbp.value = f\"<br>Date Time : \\t{df['dateTime'][current_id]}<br>Period : P{df['period'][current_id]} - {df['periodTime'][current_id]}<br>Team : {df['teamName'][current_id]}<br>Description : {df['description'][current_id]}<br>Coordinates : {df['eventCoordinates'][current_id]}<br>\"\n",
    "    \n",
    "    id_play = interactive(handle_event, w = SelectionSlider(description='Play by play ID:', options=event_id_list, style= {'description_width': 'initial'}))\n",
    "    id_slider.observe(on_change_game_id)\n",
    "    display(id_play)\n",
    "    \n",
    "    str_infos_pbp = f\"<br>Date Time : \\t{df['dateTime'][event_id_list[0]]}<br>Period : P{df['period'][event_id_list[0]]} - {df['periodTime'][event_id_list[0]]}<br>Team : {df['teamName'][event_id_list[0]]}<br>Description : {df['description'][event_id_list[0]]}<br>Coordinates : {df['eventCoordinates'][event_id_list[0]]}<br>\"\n",
    "    infos_pbp = widgets.HTML(value=str_infos_pbp,description='Informations about the play by play :',style= {'description_width': 'initial'})\n",
    "    id_play.children[0].observe(on_change_pbp_id)\n",
    "    display(infos_pbp)"
   ]
  },
  {
   "cell_type": "code",
   "execution_count": 89,
   "id": "8dbfae1a",
   "metadata": {
    "scrolled": false
   },
   "outputs": [
    {
     "name": "stderr",
     "output_type": "stream",
     "text": [
      "100%|██████████| 1317/1317 [00:00<00:00, 101493.74it/s]\n"
     ]
    },
    {
     "data": {
      "application/vnd.jupyter.widget-view+json": {
       "model_id": "c92863ad30b34896be5ebce11d29ba4d",
       "version_major": 2,
       "version_minor": 0
      },
      "text/plain": [
       "HBox(children=(Dropdown(description='Type of the game:', options=(('Regular season', 1), ('Playoffs', 2)), sty…"
      ]
     },
     "metadata": {},
     "output_type": "display_data"
    },
    {
     "data": {
      "application/vnd.jupyter.widget-view+json": {
       "model_id": "db809571301d47dd8bad4c7be7f074c2",
       "version_major": 2,
       "version_minor": 0
      },
      "text/plain": [
       "HTML(value='<br>data et heure<br>team 1 (home) vs team 2 (away)<br>goals - goals <br>attempts vs attempts<br>'…"
      ]
     },
     "metadata": {},
     "output_type": "display_data"
    },
    {
     "data": {
      "application/vnd.jupyter.widget-view+json": {
       "model_id": "447cad1b9c06429fbfd6f2f063bee398",
       "version_major": 2,
       "version_minor": 0
      },
      "text/plain": [
       "interactive(children=(SelectionSlider(description='Play by play ID:', options=(8, 11, 15, 16, 24, 25, 27, 29, …"
      ]
     },
     "metadata": {},
     "output_type": "display_data"
    },
    {
     "data": {
      "application/vnd.jupyter.widget-view+json": {
       "model_id": "63525c5dfc804048bc43b9473193357e",
       "version_major": 2,
       "version_minor": 0
      },
      "text/plain": [
       "HTML(value='<br>Date Time : \\t2016-10-12T23:19:59Z<br>Period : P1 - 01:11<br>Team : Toronto Maple Leafs<br>Des…"
      ]
     },
     "metadata": {},
     "output_type": "display_data"
    }
   ],
   "source": [
    "interactif_widget('20162017')"
   ]
  },
  {
   "cell_type": "code",
   "execution_count": null,
   "id": "c4a381e6",
   "metadata": {},
   "outputs": [],
   "source": []
  }
 ],
 "metadata": {
  "kernelspec": {
   "display_name": "Python 3",
   "language": "python",
   "name": "python3"
  },
  "language_info": {
   "codemirror_mode": {
    "name": "ipython",
    "version": 3
   },
   "file_extension": ".py",
   "mimetype": "text/x-python",
   "name": "python",
   "nbconvert_exporter": "python",
   "pygments_lexer": "ipython3",
   "version": "3.8.8"
  }
 },
 "nbformat": 4,
 "nbformat_minor": 5
}
